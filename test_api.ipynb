{
 "cells": [
  {
   "cell_type": "code",
   "execution_count": 1,
   "metadata": {},
   "outputs": [],
   "source": [
    "import requests\n",
    "import json\n",
    "\n",
    "#stations_realtime_json = requests.get('https://barcelona-sp.publicbikesystem.net/customer/ube/gbfs/v1/en/station_status').json()\n",
    "#stations_realtime_json = requests.get('http://api.citybik.es/v2/networks/bicing').json()\n",
    "#station_information_json = requests.get('https://barcelona-sp.publicbikesystem.net/customer/ube/gbfs/v1/en/station_information').json()"
   ]
  },
  {
   "cell_type": "code",
   "execution_count": null,
   "metadata": {},
   "outputs": [],
   "source": [
    "import requests\n",
    "import json\n",
    "\n",
    "# Realizar petición a tu API local\n",
    "response = requests.get('http://localhost:3000/api/bikesystem')\n",
    "\n",
    "# Verificar el estado de la respuesta\n",
    "print(f\"Estado de la respuesta: {response.status_code}\")\n",
    "\n",
    "# Mostrar los primeros 2 registros de la respuesta para verificar la estructura\n",
    "if response.status_code == 200:\n",
    "    data = response.json()\n",
    "    print(\"\\nPrimeros 2 registros:\")\n",
    "    print(json.dumps(data[:2], indent=2, ensure_ascii=False))\n",
    "    \n",
    "    # Mostrar estadísticas básicas\n",
    "    print(f\"\\nTotal de estaciones: {len(data)}\")\n",
    "    \n",
    "    # Verificar que los datos combinados estén presentes\n",
    "    if len(data) > 0:\n",
    "        primera_estacion = data[0]\n",
    "        print(\"\\nCampos disponibles en cada estación:\")\n",
    "        print(json.dumps(list(primera_estacion.keys()), indent=2))"
   ]
  },
  {
   "cell_type": "code",
   "execution_count": 2,
   "metadata": {},
   "outputs": [],
   "source": [
    "import requests\n",
    "station_information_json = requests.get('https://barcelona-sp.publicbikesystem.net/customer/ube/gbfs/v1/en/station_information').json()"
   ]
  },
  {
   "cell_type": "code",
   "execution_count": 5,
   "metadata": {},
   "outputs": [
    {
     "data": {
      "text/plain": [
       "{'station_id': '1',\n",
       " 'name': 'GRAN VIA CORTS CATALANES, 760',\n",
       " 'physical_configuration': 'ELECTRICBIKESTATION',\n",
       " 'lat': 41.3979779,\n",
       " 'lon': 2.1801069,\n",
       " 'altitude': 16.0,\n",
       " 'address': 'GRAN VIA CORTS CATALANES, 760',\n",
       " 'cross_street': '02-Eixample/05-el Fort Pienc',\n",
       " 'post_code': '08013',\n",
       " 'capacity': 46,\n",
       " 'is_charging_station': True,\n",
       " 'rental_methods': ['KEY', 'TRANSITCARD', 'CREDITCARD', 'PHONE'],\n",
       " 'groups': ['40.03'],\n",
       " 'obcn': '1',\n",
       " 'short_name': '1',\n",
       " 'nearby_distance': 1000.0,\n",
       " '_ride_code_support': True,\n",
       " 'rental_uris': {}}"
      ]
     },
     "execution_count": 5,
     "metadata": {},
     "output_type": "execute_result"
    }
   ],
   "source": [
    "station_information_json['data']['stations'][0]\n"
   ]
  },
  {
   "cell_type": "code",
   "execution_count": null,
   "metadata": {},
   "outputs": [],
   "source": []
  }
 ],
 "metadata": {
  "kernelspec": {
   "display_name": "Python 3",
   "language": "python",
   "name": "python3"
  },
  "language_info": {
   "codemirror_mode": {
    "name": "ipython",
    "version": 3
   },
   "file_extension": ".py",
   "mimetype": "text/x-python",
   "name": "python",
   "nbconvert_exporter": "python",
   "pygments_lexer": "ipython3",
   "version": "3.12.6"
  }
 },
 "nbformat": 4,
 "nbformat_minor": 2
}
