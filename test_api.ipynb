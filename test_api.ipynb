{
 "cells": [
  {
   "cell_type": "code",
   "execution_count": 1,
   "metadata": {},
   "outputs": [],
   "source": [
    "import requests\n",
    "import json\n",
    "\n",
    "#stations_realtime_json = requests.get('https://barcelona-sp.publicbikesystem.net/customer/ube/gbfs/v1/en/station_status').json()\n",
    "#stations_realtime_json = requests.get('http://api.citybik.es/v2/networks/bicing').json()\n",
    "#station_information_json = requests.get('https://barcelona-sp.publicbikesystem.net/customer/ube/gbfs/v1/en/station_information').json()"
   ]
  },
  {
   "cell_type": "code",
   "execution_count": null,
   "metadata": {},
   "outputs": [],
   "source": [
    "import requests\n",
    "import json\n",
    "\n",
    "# Realizar petición a tu API local\n",
    "response = requests.get('http://localhost:3000/api/bikesystem')\n",
    "\n",
    "# Verificar el estado de la respuesta\n",
    "print(f\"Estado de la respuesta: {response.status_code}\")\n",
    "\n",
    "# Mostrar los primeros 2 registros de la respuesta para verificar la estructura\n",
    "if response.status_code == 200:\n",
    "    data = response.json()\n",
    "    print(\"\\nPrimeros 2 registros:\")\n",
    "    print(json.dumps(data[:2], indent=2, ensure_ascii=False))\n",
    "    \n",
    "    # Mostrar estadísticas básicas\n",
    "    print(f\"\\nTotal de estaciones: {len(data)}\")\n",
    "    \n",
    "    # Verificar que los datos combinados estén presentes\n",
    "    if len(data) > 0:\n",
    "        primera_estacion = data[0]\n",
    "        print(\"\\nCampos disponibles en cada estación:\")\n",
    "        print(json.dumps(list(primera_estacion.keys()), indent=2))"
   ]
  }
 ],
 "metadata": {
  "kernelspec": {
   "display_name": "Python 3",
   "language": "python",
   "name": "python3"
  },
  "language_info": {
   "codemirror_mode": {
    "name": "ipython",
    "version": 3
   },
   "file_extension": ".py",
   "mimetype": "text/x-python",
   "name": "python",
   "nbconvert_exporter": "python",
   "pygments_lexer": "ipython3",
   "version": "3.12.6"
  }
 },
 "nbformat": 4,
 "nbformat_minor": 2
}
